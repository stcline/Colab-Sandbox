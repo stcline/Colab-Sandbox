{
  "nbformat": 4,
  "nbformat_minor": 0,
  "metadata": {
    "colab": {
      "name": "Count.ipynb",
      "provenance": [],
      "authorship_tag": "ABX9TyNhiWL9wM1JaRTYpYvsJjVR",
      "include_colab_link": true
    },
    "kernelspec": {
      "name": "python3",
      "display_name": "Python 3"
    },
    "language_info": {
      "name": "python"
    }
  },
  "cells": [
    {
      "cell_type": "markdown",
      "metadata": {
        "id": "view-in-github",
        "colab_type": "text"
      },
      "source": [
        "<a href=\"https://colab.research.google.com/github/stcline/Colab-Sandbox/blob/main/Count.ipynb\" target=\"_parent\"><img src=\"https://colab.research.google.com/assets/colab-badge.svg\" alt=\"Open In Colab\"/></a>"
      ]
    },
    {
      "cell_type": "markdown",
      "source": [
        "This is a notebook.  We are testing this out to see if it works.  Sincy you already know some python.  Do the following:\n",
        "\n",
        "\n",
        "1.   Examine the code block below.\n",
        "2.   Run the code block to make sure it works.\n",
        "3.   Make some changes to the codeblock so it counts from 1-5 insteady of 0-4.\n",
        "4.   Tell me when you are done.\n",
        "\n"
      ],
      "metadata": {
        "id": "1s09UErx-QXy"
      }
    },
    {
      "cell_type": "code",
      "execution_count": null,
      "metadata": {
        "colab": {
          "base_uri": "https://localhost:8080/"
        },
        "id": "q_Y0KoXU914x",
        "outputId": "b3d308b5-ec08-47d9-8be9-902c1a82263e"
      },
      "outputs": [
        {
          "output_type": "stream",
          "name": "stdout",
          "text": [
            "0\n",
            "1\n",
            "2\n",
            "3\n",
            "4\n"
          ]
        }
      ],
      "source": [
        "for x in range(5):\n",
        "  print (x)"
      ]
    }
  ]
}